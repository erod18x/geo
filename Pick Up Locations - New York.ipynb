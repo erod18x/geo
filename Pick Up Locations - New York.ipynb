{
 "cells": [
  {
   "cell_type": "code",
   "execution_count": 1,
   "metadata": {},
   "outputs": [],
   "source": [
    "\"\"\"\n",
    "    Install Plotly, Pandas, and NumPy\n",
    "    \n",
    "    Register for Plotly Account: https://plot.ly/api_signup\n",
    "    \n",
    "    Register for MapBox API Token: https://www.mapbox.com\n",
    "\"\"\"\n",
    "import numpy as np\n",
    "import pandas as pd\n",
    "import plotly\n",
    "import plotly.plotly as py\n",
    "import plotly.offline as offline\n",
    "import plotly.graph_objs as go\n",
    "from plotly.plotly import iplot"
   ]
  },
  {
   "cell_type": "code",
   "execution_count": 2,
   "metadata": {},
   "outputs": [],
   "source": [
    "plotly.tools.set_credentials_file(username='erodg35',api_key='igXS24rmDWUSqOLz8Egl')\n",
    "\n",
    "mb_access_token = 'pk.eyJ1IjoiZXJvZGczNSIsImEiOiJjanB1YW9tMnowZXlqM3hvZzZxa3c1N2I2In0.geYQDwHqc7Rjmojmyd06Xw'"
   ]
  },
  {
   "cell_type": "code",
   "execution_count": 9,
   "metadata": {},
   "outputs": [
    {
     "name": "stdout",
     "output_type": "stream",
     "text": [
      "Total Rows: 18791\n",
      "['key', 'active_users', 'active_users_retrieved_at', 'forum', 'forum_id', 'forum_name', 'hit_at', 'id', 'ip_address.as_organization', 'ip_address.asn', 'ip_address.city', 'ip_address.continent_code', 'ip_address.country', 'ip_address.country_code', 'ip_address.domain', 'ip_address.ip_address', 'ip_address.isp', 'ip_address.latitude', 'ip_address.longitude', 'ip_address.organization', 'ip_address.port', 'ip_address.region', 'platform_url', 'post', 'request_headers.referer', 'request_headers.user_agent', 'request_headers.via', 'room', 'room_id', 'room_title', 'thread', 'thread_id', 'thread_title']\n"
     ]
    }
   ],
   "source": [
    "#excel_sheet = 'test.csv'\n",
    "excel_sheet = 'Shamikh.csv'\n",
    "train = pd.read_csv(excel_sheet)\n",
    "\n",
    "train.head()\n",
    "\n",
    "print('Total Rows: {0}'.format(len(train)))\n",
    "\n",
    "print(list(train))"
   ]
  },
  {
   "cell_type": "code",
   "execution_count": 12,
   "metadata": {},
   "outputs": [],
   "source": [
    "shaz13_custom_style = 'mapbox://styles/shaz13/cjiog1iqa1vkd2soeu5eocy4i'\n",
    "\n",
    "#set the geo-spatial data\n",
    "data = [go.Scattermapbox(\n",
    "    lat = train['ip_address.latitude'],\n",
    "    lon = train['ip_address.longitude'],\n",
    "    customdata = train['key'],\n",
    "    mode = 'markers',\n",
    "    marker = dict(\n",
    "        size = 4,\n",
    "        color = 'red',\n",
    "        opacity = 0.8,\n",
    "    ),\n",
    ")]"
   ]
  },
  {
   "cell_type": "code",
   "execution_count": 13,
   "metadata": {},
   "outputs": [
    {
     "data": {
      "text/html": [
       "<iframe id=\"igraph\" scrolling=\"no\" style=\"border:none;\" seamless=\"seamless\" src=\"https://plot.ly/~erodg35/20.embed\" height=\"600px\" width=\"900px\"></iframe>"
      ],
      "text/plain": [
       "<plotly.tools.PlotlyDisplay object>"
      ]
     },
     "execution_count": 13,
     "metadata": {},
     "output_type": "execute_result"
    }
   ],
   "source": [
    "#set the layout to plot\n",
    "layout = go.Layout(autosize = False,\n",
    "                  mapbox = dict(accesstoken=mb_access_token,\n",
    "                               bearing = 10,\n",
    "                               pitch = 60,\n",
    "                               zoom = 13,\n",
    "                               center = dict(lat = 40.721319,\n",
    "                                            lon= -73.987130),\n",
    "                               style = shaz13_custom_style),\n",
    "                   width = 900,\n",
    "                   height = 600,\n",
    "                   title = 'Pick Up Locatins in New York')\n",
    "\n",
    "fig = dict(data=data, layout=layout)\n",
    "\n",
    "iplot(fig)"
   ]
  },
  {
   "cell_type": "code",
   "execution_count": null,
   "metadata": {},
   "outputs": [],
   "source": []
  }
 ],
 "metadata": {
  "kernelspec": {
   "display_name": "Python 3",
   "language": "python",
   "name": "python3"
  },
  "language_info": {
   "codemirror_mode": {
    "name": "ipython",
    "version": 3
   },
   "file_extension": ".py",
   "mimetype": "text/x-python",
   "name": "python",
   "nbconvert_exporter": "python",
   "pygments_lexer": "ipython3",
   "version": "3.7.0"
  }
 },
 "nbformat": 4,
 "nbformat_minor": 2
}
