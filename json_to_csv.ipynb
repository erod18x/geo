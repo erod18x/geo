{
 "cells": [
  {
   "cell_type": "code",
   "execution_count": 282,
   "metadata": {},
   "outputs": [
    {
     "name": "stdout",
     "output_type": "stream",
     "text": [
      " JSON File name (Exclude JSON exentionsion): Shamikh.json\n"
     ]
    }
   ],
   "source": [
    "import json\n",
    "import pandas as pd\n",
    "from pandas.io.json import json_normalize\n",
    "\n",
    "#Insert filename to be used\n",
    "inputfilename = input(' JSON File name (Exclude JSON exentionsion): ')"
   ]
  },
  {
   "cell_type": "code",
   "execution_count": 283,
   "metadata": {},
   "outputs": [],
   "source": [
    "#Import json file from local disk\n",
    "file = inputfilename.split('.')\n",
    "\n",
    "#name of csv file to be created\n",
    "csv_file_name = file[0] + '.csv'\n",
    "\n",
    "if len(file) == 1:\n",
    "    file_name = file[0] + '.json'\n",
    "elif len(file) > 1:\n",
    "    file_name = file[0] + '.json'\n",
    "    \n",
    "file = file_name\n",
    "\n",
    "#read json file with pandas\n",
    "data = pd.read_json(file_name)"
   ]
  },
  {
   "cell_type": "code",
   "execution_count": 284,
   "metadata": {},
   "outputs": [],
   "source": [
    "with open(file) as json_file:\n",
    "    d = json.load(json_file)\n",
    "\n",
    "#flatten json file\n",
    "new_json = json_normalize(d)"
   ]
  },
  {
   "cell_type": "code",
   "execution_count": 285,
   "metadata": {},
   "outputs": [],
   "source": [
    "#split column names on period\n",
    "new_columns = []\n",
    "\n",
    "for column in new_json.columns:\n",
    "    column = column.split('.')\n",
    "    \n",
    "    if len(column) == 2:\n",
    "        #print(column[1])\n",
    "        new_columns.append(column[1])\n",
    "    else:\n",
    "        #print(column[0])\n",
    "        new_columns.append(column[0])"
   ]
  },
  {
   "cell_type": "code",
   "execution_count": 286,
   "metadata": {},
   "outputs": [],
   "source": [
    "new_json.columns=new_columns"
   ]
  },
  {
   "cell_type": "code",
   "execution_count": 288,
   "metadata": {},
   "outputs": [],
   "source": [
    "#create new CSV file\n",
    "new_json.to_csv(csv_file_name)"
   ]
  }
 ],
 "metadata": {
  "kernelspec": {
   "display_name": "Python 3",
   "language": "python",
   "name": "python3"
  },
  "language_info": {
   "codemirror_mode": {
    "name": "ipython",
    "version": 3
   },
   "file_extension": ".py",
   "mimetype": "text/x-python",
   "name": "python",
   "nbconvert_exporter": "python",
   "pygments_lexer": "ipython3",
   "version": "3.7.1"
  }
 },
 "nbformat": 4,
 "nbformat_minor": 2
}
